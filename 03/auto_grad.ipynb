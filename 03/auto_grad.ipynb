{
 "cells": [
  {
   "cell_type": "markdown",
   "metadata": {
    "id": "H74st4SQUFCG"
   },
   "source": [
    "#**Автоматический градиент**"
   ]
  },
  {
   "cell_type": "code",
   "execution_count": 1,
   "metadata": {
    "executionInfo": {
     "elapsed": 5430,
     "status": "ok",
     "timestamp": 1645778333105,
     "user": {
      "displayName": "artem bagrov",
      "photoUrl": "https://lh3.googleusercontent.com/a/default-user=s64",
      "userId": "13630749988679781578"
     },
     "user_tz": -180
    },
    "id": "qRO1IhS6vYag"
   },
   "outputs": [],
   "source": [
    "import torch\n",
    "\n",
    "x = torch.tenso03r(1.0)\n",
    "y = torch.tensor(2.0)\n",
    "\n",
    "# w - параметр, который мы будем обучать -> requires_grad=True\n",
    "w = torch.tensor(1.0, requires_grad=True)\n"
   ]
  },
  {
   "cell_type": "code",
   "execution_count": 3,
   "metadata": {
    "colab": {
     "base_uri": "https://localhost:8080/"
    },
    "executionInfo": {
     "elapsed": 883,
     "status": "ok",
     "timestamp": 1645778338235,
     "user": {
      "displayName": "artem bagrov",
      "photoUrl": "https://lh3.googleusercontent.com/a/default-user=s64",
      "userId": "13630749988679781578"
     },
     "user_tz": -180
    },
    "id": "3i3Cd8EkwEyp",
    "outputId": "c6724b7e-ffea-44cb-a62a-bb70c3c69ee3"
   },
   "outputs": [
    {
     "name": "stdout",
     "output_type": "stream",
     "text": [
      "tensor(1., grad_fn=<PowBackward0>)\n"
     ]
    }
   ],
   "source": [
    "# Forward шаг\n",
    "y_predicted = w * x\n",
    "loss = (y_predicted - y)**2\n",
    "print(loss)\n"
   ]
  },
  {
   "cell_type": "code",
   "execution_count": 4,
   "metadata": {
    "colab": {
     "base_uri": "https://localhost:8080/"
    },
    "executionInfo": {
     "elapsed": 5,
     "status": "ok",
     "timestamp": 1645778338622,
     "user": {
      "displayName": "artem bagrov",
      "photoUrl": "https://lh3.googleusercontent.com/a/default-user=s64",
      "userId": "13630749988679781578"
     },
     "user_tz": -180
    },
    "id": "m2l8Cut9waoB",
    "outputId": "5898d914-c538-470e-a53e-dd7674145380"
   },
   "outputs": [
    {
     "name": "stdout",
     "output_type": "stream",
     "text": [
      "tensor(-2.)\n"
     ]
    }
   ],
   "source": [
    "# backward шаг\n",
    "loss.backward()\n",
    "print(w.grad)\n"
   ]
  },
  {
   "cell_type": "code",
   "execution_count": 5,
   "metadata": {
    "colab": {
     "base_uri": "https://localhost:8080/"
    },
    "executionInfo": {
     "elapsed": 42,
     "status": "ok",
     "timestamp": 1645778340665,
     "user": {
      "displayName": "artem bagrov",
      "photoUrl": "https://lh3.googleusercontent.com/a/default-user=s64",
      "userId": "13630749988679781578"
     },
     "user_tz": -180
    },
    "id": "qv0q3tCXw2P_",
    "outputId": "e3ff919d-1ec9-4111-c935-4149f507a9ae"
   },
   "outputs": [
    {
     "name": "stdout",
     "output_type": "stream",
     "text": [
      "tensor(1.0200, requires_grad=True)\n"
     ]
    },
    {
     "data": {
      "text/plain": [
       "tensor(0.)"
      ]
     },
     "execution_count": 5,
     "metadata": {},
     "output_type": "execute_result"
    }
   ],
   "source": [
    "# Обновление веса\n",
    "with torch.no_grad():\n",
    "    w -= 0.01 * w.grad\n",
    "    print(w)\n",
    "# не забываем обнулить градиенты\n",
    "w.grad.zero_()"
   ]
  },
  {
   "cell_type": "markdown",
   "metadata": {
    "id": "vH-P1hQOvijl"
   },
   "source": [
    "#**Линейная регрессия**"
   ]
  },
  {
   "cell_type": "markdown",
   "metadata": {
    "id": "cLHB3U0BmYrD"
   },
   "source": [
    "Дан набор данных точек $\\{ (x_1, t_1), (x_2, t_2), \\dots, (x_N, t_N) \\}$, где каждая точка $(x_i, t_i)$ содержит *значение входа* $x_i$ и *значение выхода* $t_i$. \n",
    "\n",
    "Используем следующую  **модель**:\n",
    "$$\n",
    "y_i = wx_i + b\n",
    "$$\n",
    "\n",
    "Мы хотим, чтобы ответы $y_i$ были максимально близко к реальным значениям $t_i$. Для линейной регрессии мы используем квадрат ошибки для того, чтобы измерить расстояние (отличие) между $y_i$ и $t_i$. **loss function** для этого простого примера:\n",
    "$$\n",
    "\\mathcal{L}(y_i,t_i) = \\frac{1}{2} (y_i - t_i)^2\n",
    "$$\n",
    "\n",
    "**Cost function** - это средний loss (ошибка) на всем множестве данных:\n",
    "$$\n",
    "\\mathcal{E}(w,b) = \\frac{1}{N} \\sum_{i=1}^N \\mathcal{L}(y_i, t_i) = \\frac{1}{N} \\sum_{i=1}^N \\frac{1}{2} \\left(wx_i + b - t_i \\right)^2\n",
    "$$"
   ]
  },
  {
   "cell_type": "markdown",
   "metadata": {
    "id": "0-WHTZ2avb5O"
   },
   "source": []
  },
  {
   "cell_type": "markdown",
   "metadata": {
    "id": "RNW6b7C9WPEV"
   },
   "source": [
    "Мы генерируем синтетические данные {(xi,ti)}  где  xi  равномерно распределено на интервале  [0,10]  а  ti  созданы с помощью уравнение ( w=4  и  b=10 ):\n",
    "ti=4xi+10+ϵ \n",
    "\n",
    "Здесь,  ϵ∼N(0,2)  ( ϵ  получено из Гауссовского распределения со средним значением 0 и дисперсией 2). Шум вносит некоторые случайные колебания в данные, для имитации реальых данных, которые имеют исходную закономерность, но отдельные наблюдения искажены случайным шумом."
   ]
  },
  {
   "cell_type": "code",
   "execution_count": 2,
   "metadata": {
    "colab": {
     "base_uri": "https://localhost:8080/",
     "height": 265
    },
    "executionInfo": {
     "elapsed": 689,
     "status": "ok",
     "timestamp": 1645778346165,
     "user": {
      "displayName": "artem bagrov",
      "photoUrl": "https://lh3.googleusercontent.com/a/default-user=s64",
      "userId": "13630749988679781578"
     },
     "user_tz": -180
    },
    "id": "s_985h_JXrS8",
    "outputId": "ce343e35-d839-435a-b2f4-559e96f17c1a"
   },
   "outputs": [
    {
     "data": {
      "image/png": "[encoded data removed]",
      "text/plain": [
       "<Figure size 432x288 with 1 Axes>"
      ]
     },
     "metadata": {
      "needs_background": "light"
     },
     "output_type": "display_data"
    }
   ],
   "source": [
    "import torch\n",
    "import numpy as np\n",
    "import matplotlib.pyplot as plt\n",
    "\n",
    "N = 100  # Number of training data points\n",
    "x = np.linspace(0, 10, N)\n",
    "\n",
    "t = 4 * x + 10 + np.random.normal(0, 2, x.shape[0])\n",
    "plt.plot(x, t, \"r.\")\n",
    "\n",
    "x = torch.from_numpy(x)\n",
    "t = torch.from_numpy(t)"
   ]
  },
  {
   "cell_type": "code",
   "execution_count": 5,
   "metadata": {
    "colab": {
     "base_uri": "https://localhost:8080/"
    },
    "executionInfo": {
     "elapsed": 6,
     "status": "ok",
     "timestamp": 1645778346651,
     "user": {
      "displayName": "artem bagrov",
      "photoUrl": "https://lh3.googleusercontent.com/a/default-user=s64",
      "userId": "13630749988679781578"
     },
     "user_tz": -180
    },
    "id": "-0E7SgJBYqAL",
    "outputId": "05356917-b1c1-4f1f-8946-ec317a49a09e"
   },
   "outputs": [
    {
     "name": "stdout",
     "output_type": "stream",
     "text": [
      "i: 0 loss: 577.9637\n",
      "i: 100 loss: 6.8096\n",
      "i: 200 loss: 4.7542\n",
      "i: 300 loss: 3.5038\n",
      "i: 400 loss: 2.7432\n",
      "i: 500 loss: 2.2804\n",
      "i: 600 loss: 1.9989\n",
      "i: 700 loss: 1.8276\n",
      "i: 800 loss: 1.7235\n",
      "i: 900 loss: 1.6601\n",
      "{'w': tensor([4.0716], requires_grad=True), 'b': tensor([9.2111], requires_grad=True)}\n"
     ]
    }
   ],
   "source": [
    "params = {\n",
    "    \"w\": torch.randn(1).requires_grad_(True),\n",
    "    \"b\": torch.randn(1).requires_grad_(True),\n",
    "}\n",
    "\n",
    "\n",
    "def cost(params):\n",
    "    y = params[\"w\"] * x + params[\"b\"]\n",
    "    return (1 / N) * torch.sum(0.5 * (y - t) ** 2)\n",
    "\n",
    "\n",
    "# Находим градиент\n",
    "num_epochs = 1000  # Количество эпох 1000,2000\n",
    "alpha = 0.01  # Learning rate\n",
    "\n",
    "for i in range(num_epochs):\n",
    "    # Оценка градиента текущих параметров, хранящихся в params\n",
    "    loss = cost(params)\n",
    "    loss.backward()\n",
    "\n",
    "    if i % 100 == 0:\n",
    "        print(f\"i: {i} loss: {loss.item():.4f}\")\n",
    "\n",
    "    # Обновление параметров w и b\n",
    "    with torch.no_grad():\n",
    "        params[\"w\"].data = params[\"w\"] - alpha * params[\"w\"].grad\n",
    "        params[\"b\"].data = params[\"b\"] - alpha * params[\"b\"].grad\n",
    "        params[\"w\"].grad.zero_()\n",
    "        params[\"b\"].grad.zero_()\n",
    "\n",
    "print(params)"
   ]
  },
  {
   "cell_type": "code",
   "execution_count": 6,
   "metadata": {
    "colab": {
     "base_uri": "https://localhost:8080/",
     "height": 302
    },
    "executionInfo": {
     "elapsed": 312,
     "status": "ok",
     "timestamp": 1645778348566,
     "user": {
      "displayName": "artem bagrov",
      "photoUrl": "https://lh3.googleusercontent.com/a/default-user=s64",
      "userId": "13630749988679781578"
     },
     "user_tz": -180
    },
    "id": "ah7N-WjfZZpg",
    "outputId": "c8419288-f304-4875-e68f-4d27e48f8e20"
   },
   "outputs": [
    {
     "name": "stdout",
     "output_type": "stream",
     "text": [
      "[4.071603]\n"
     ]
    },
    {
     "data": {
      "text/plain": [
       "[<matplotlib.lines.Line2D at 0x7f6514672610>]"
      ]
     },
     "execution_count": 6,
     "metadata": {},
     "output_type": "execute_result"
    },
    {
     "data": {
      "image/png": "[encoded data removed]",
      "text/plain": [
       "<Figure size 432x288 with 1 Axes>"
      ]
     },
     "metadata": {
      "needs_background": "light"
     },
     "output_type": "display_data"
    }
   ],
   "source": [
    "plt.plot(x, t, \"r.\")\n",
    "print(params[\"w\"].data.numpy())\n",
    "\n",
    "b = params[\"b\"].data.numpy()\n",
    "w = params[\"w\"].data.numpy()\n",
    "\n",
    "plt.plot([0, 10], [b, 10*w + b], \"b-\")"
   ]
  },
  {
   "cell_type": "markdown",
   "metadata": {
    "id": "2DrzjBl-i2aW"
   },
   "source": [
    "# Регрессия: нейронные сети"
   ]
  },
  {
   "cell_type": "code",
   "execution_count": 9,
   "metadata": {
    "colab": {
     "base_uri": "https://localhost:8080/",
     "height": 265
    },
    "executionInfo": {
     "elapsed": 326,
     "status": "ok",
     "timestamp": 1645778351402,
     "user": {
      "displayName": "artem bagrov",
      "photoUrl": "https://lh3.googleusercontent.com/a/default-user=s64",
      "userId": "13630749988679781578"
     },
     "user_tz": -180
    },
    "id": "VSNyv8dyi7LL",
    "outputId": "25a8432e-8cd1-4baa-fdfe-0ea9a6fef3ce"
   },
   "outputs": [
    {
     "data": {
      "image/png": "[encoded data removed]",
      "text/plain": [
       "<Figure size 432x288 with 1 Axes>"
      ]
     },
     "metadata": {
      "needs_background": "light"
     },
     "output_type": "display_data"
    }
   ],
   "source": [
    "import numpy as np\n",
    "x = np.linspace(-5, 5, 1000)\n",
    "t = x ** 3 - 20 * x + 10 + np.random.normal(0, 4, x.shape[0])\n",
    "plt.plot(x, t, \"r.\")\n",
    "\n",
    "x = torch.from_numpy(x).float()\n",
    "t = torch.from_numpy(t)\n"
   ]
  },
  {
   "cell_type": "code",
   "execution_count": 10,
   "metadata": {
    "colab": {
     "base_uri": "https://localhost:8080/",
     "height": 651
    },
    "executionInfo": {
     "elapsed": 6677,
     "status": "ok",
     "timestamp": 1645778359749,
     "user": {
      "displayName": "artem bagrov",
      "photoUrl": "https://lh3.googleusercontent.com/a/default-user=s64",
      "userId": "13630749988679781578"
     },
     "user_tz": -180
    },
    "id": "1We_IEdZjSP_",
    "outputId": "9c4caea8-9b7b-46d5-d747-0e877dac3ec5"
   },
   "outputs": [
    {
     "name": "stdout",
     "output_type": "stream",
     "text": [
      "tensor(305.9261, dtype=torch.float64, grad_fn=<MulBackward0>)\n",
      "i: 0     loss: 305.9261\n",
      "i: 500   loss: 64.0645\n",
      "i: 1000  loss: 19.3637\n",
      "i: 1500  loss: 11.6481\n",
      "i: 2000  loss: 10.7613\n",
      "i: 2500  loss: 10.4754\n",
      "i: 3000  loss: 10.3316\n",
      "i: 3500  loss: 10.2070\n",
      "i: 4000  loss: 10.0968\n",
      "i: 4500  loss: 10.0252\n",
      "i: 5000  loss: 9.9755\n",
      "i: 5500  loss: 9.9326\n",
      "i: 6000  loss: 9.8868\n",
      "i: 6500  loss: 9.8455\n",
      "i: 7000  loss: 9.8147\n",
      "i: 7500  loss: 9.7879\n",
      "i: 8000  loss: 9.7618\n",
      "i: 8500  loss: 9.7405\n",
      "i: 9000  loss: 9.7197\n",
      "i: 9500  loss: 9.7012\n"
     ]
    },
    {
     "data": {
      "image/png": "[encoded data removed]",
      "text/plain": [
       "<Figure size 432x288 with 1 Axes>"
      ]
     },
     "metadata": {
      "needs_background": "light"
     },
     "output_type": "display_data"
    }
   ],
   "source": [
    "inputs = x.reshape(x.shape[-1], 1)\n",
    "\n",
    "params = {\n",
    "    \"W1\": torch.randn(1, 4).requires_grad_(True),\n",
    "    \"b1\": torch.randn(4).requires_grad_(True),\n",
    "    \"W2\": torch.randn(4, 4).requires_grad_(True),\n",
    "    \"b2\": torch.randn(4).requires_grad_(True),\n",
    "    \"W3\": torch.randn(4, 1).requires_grad_(True),\n",
    "    \"b3\": torch.randn(1).requires_grad_(True),\n",
    "}\n",
    "\n",
    "\n",
    "# Оптимизация (в этом примере используется SGD).\n",
    "optimizer = torch.optim.SGD(params.values(), lr=0.0001, weight_decay=0.0001, momentum=0.9)\n",
    "\n",
    "# В Pytorch также реализован широкий спектр функций активации, таких как: Tanh, ReLU, LeakyReLU, ...\n",
    "nonlinearity = torch.nn.ReLU()\n",
    "\n",
    "\n",
    "def predict(params, inputs):\n",
    "    h1 = nonlinearity(torch.mm(inputs, params[\"W1\"]) + params[\"b1\"])\n",
    "    h2 = nonlinearity(torch.mm(h1, params[\"W2\"]) + params[\"b2\"])\n",
    "    output = torch.mm(h2, params[\"W3\"]) + params[\"b3\"]\n",
    "    return output\n",
    "\n",
    "\n",
    "def cost(params):\n",
    "    output = predict(params, inputs)\n",
    "    return (1.0 / inputs.shape[0]) * torch.sum(0.5 * (output.reshape(output.shape[0]) - t) ** 2)\n",
    "\n",
    "print(cost(params))\n",
    "\n",
    "num_epochs = 10000\n",
    "\n",
    "for i in range(num_epochs):\n",
    "    # Оценка градиента текущих параметров, хранящихся в params\n",
    "    loss = cost(params)\n",
    "    if i % 500 == 0:\n",
    "        print(f\"i: {i:<5d} loss: {loss.item():.4f}\")\n",
    "    optimizer.zero_grad()\n",
    "    loss.backward()\n",
    "    optimizer.step()\n",
    "\n",
    "with torch.no_grad():\n",
    "    final_y = predict(params, inputs)\n",
    "    plt.plot(x, t, \"r.\")\n",
    "    plt.plot(x, final_y, \"b-\")"
   ]
  },
  {
   "cell_type": "code",
   "execution_count": null,
   "metadata": {
    "id": "lzVCm4smCLhA"
   },
   "outputs": [],
   "source": []
  }
 ],
 "metadata": {
  "colab": {
   "authorship_tag": "ABX9TyMztF1XgaGffxI+QRZSk3fg",
   "name": "Копия блокнота \"auto_grad.ipynb\"",
   "provenance": [
    {
     "file_id": "1Y0dquDRQaTGwxeb6XmwJCxd9R2mBa16V",
     "timestamp": 1645778377147
    }
   ]
  },
  "kernelspec": {
   "display_name": "Python 3 (ipykernel)",
   "language": "python",
   "name": "python3"
  },
  "language_info": {
   "codemirror_mode": {
    "name": "ipython",
    "version": 3
   },
   "file_extension": ".py",
   "mimetype": "text/x-python",
   "name": "python",
   "nbconvert_exporter": "python",
   "pygments_lexer": "ipython3",
   "version": "3.8.12"
  }
 },
 "nbformat": 4,
 "nbformat_minor": 1
}
