{
 "cells": [
  {
   "cell_type": "code",
   "execution_count": 10,
   "id": "3802b9b8",
   "metadata": {},
   "outputs": [
    {
     "name": "stdout",
     "output_type": "stream",
     "text": [
      "cuda\n"
     ]
    }
   ],
   "source": [
    "import torch\n",
    "\n",
    "device = torch.device('cuda' if torch.cuda.is_available() else 'cpu')\n",
    "print(device)\n",
    "\n",
    "from torchvision import datasets\n",
    "from torchvision import transforms \n",
    "from torchvision.transforms import ToTensor\n",
    "transform = transforms.Compose([transforms.RandomRotation(100),\n",
    "                       transforms.ToTensor()])\n",
    "train_data = datasets.MNIST(\n",
    "    root = 'data', train = True, transform = ToTensor(), download = True,            \n",
    ")\n",
    "test_data = datasets.MNIST(\n",
    "    root = 'data', train = False, transform = ToTensor()\n",
    ")"
   ]
  },
  {
   "cell_type": "code",
   "execution_count": 11,
   "id": "f6f08ebd",
   "metadata": {},
   "outputs": [
    {
     "data": {
      "image/png": "[encoded data removed]",
      "text/plain": [
       "<Figure size 432x288 with 1 Axes>"
      ]
     },
     "metadata": {
      "needs_background": "light"
     },
     "output_type": "display_data"
    }
   ],
   "source": [
    "import matplotlib.pyplot as plt\n",
    "plt.imshow(train_data.data[0], cmap='gray')\n",
    "plt.title('%i' % train_data.targets[0])\n",
    "plt.show()"
   ]
  },
  {
   "cell_type": "code",
   "execution_count": 12,
   "id": "018f65b6",
   "metadata": {},
   "outputs": [],
   "source": [
    "loaders = {\n",
    "    'train' : torch.utils.data.DataLoader(train_data, \n",
    "                                          batch_size=128, \n",
    "                                          shuffle=True, \n",
    "                                          num_workers=1),\n",
    "    \n",
    "    'test'  : torch.utils.data.DataLoader(test_data, \n",
    "                                          batch_size=128, \n",
    "                                          shuffle=True, \n",
    "                                          num_workers=1),\n",
    "}"
   ]
  },
  {
   "cell_type": "code",
   "execution_count": 13,
   "id": "7ccc70b3",
   "metadata": {},
   "outputs": [],
   "source": [
    "import torch.nn as nn\n",
    "class CNN(nn.Module):\n",
    "    def __init__(self):\n",
    "        super(CNN, self).__init__()\n",
    "        self.conv1 = nn.Sequential(         \n",
    "            nn.Conv2d(\n",
    "                in_channels=1,              \n",
    "                out_channels=16,            \n",
    "                kernel_size=5,              \n",
    "                stride=1,                   \n",
    "                padding=2,                  \n",
    "            ),                              \n",
    "            nn.ReLU(),                      \n",
    "            nn.MaxPool2d(kernel_size=2),    \n",
    "        )\n",
    "        self.conv2 = nn.Sequential(         \n",
    "            nn.Conv2d(16, 32, 5, 1, 2),     \n",
    "            nn.ReLU(),                      \n",
    "            nn.MaxPool2d(2),                \n",
    "        )\n",
    "        self.out = nn.Linear(32 * 7 * 7, 10)\n",
    "    def forward(self, x):\n",
    "        x = self.conv1(x)\n",
    "        x = self.conv2(x)\n",
    "        x = x.view(x.size(0), -1)       \n",
    "        output = self.out(x)\n",
    "        return output, x    "
   ]
  },
  {
   "cell_type": "code",
   "execution_count": 14,
   "id": "e5a7a5c9",
   "metadata": {},
   "outputs": [
    {
     "name": "stdout",
     "output_type": "stream",
     "text": [
      "CNN(\n",
      "  (conv1): Sequential(\n",
      "    (0): Conv2d(1, 16, kernel_size=(5, 5), stride=(1, 1), padding=(2, 2))\n",
      "    (1): ReLU()\n",
      "    (2): MaxPool2d(kernel_size=2, stride=2, padding=0, dilation=1, ceil_mode=False)\n",
      "  )\n",
      "  (conv2): Sequential(\n",
      "    (0): Conv2d(16, 32, kernel_size=(5, 5), stride=(1, 1), padding=(2, 2))\n",
      "    (1): ReLU()\n",
      "    (2): MaxPool2d(kernel_size=2, stride=2, padding=0, dilation=1, ceil_mode=False)\n",
      "  )\n",
      "  (out): Linear(in_features=1568, out_features=10, bias=True)\n",
      ")\n"
     ]
    }
   ],
   "source": [
    "cnn = CNN()\n",
    "print(cnn)\n",
    "\n",
    "loss_func = nn.CrossEntropyLoss() "
   ]
  },
  {
   "cell_type": "code",
   "execution_count": 15,
   "id": "848cf3a5",
   "metadata": {},
   "outputs": [
    {
     "name": "stdout",
     "output_type": "stream",
     "text": [
      "Epoch [1/10], Step [100/469], Loss: 0.0972\n",
      "Epoch [1/10], Step [200/469], Loss: 0.0940\n",
      "Epoch [1/10], Step [300/469], Loss: 0.0377\n",
      "Epoch [1/10], Step [400/469], Loss: 0.1292\n",
      "Epoch [2/10], Step [100/469], Loss: 0.0594\n",
      "Epoch [2/10], Step [200/469], Loss: 0.0428\n",
      "Epoch [2/10], Step [300/469], Loss: 0.0495\n",
      "Epoch [2/10], Step [400/469], Loss: 0.0363\n",
      "Epoch [3/10], Step [100/469], Loss: 0.0062\n",
      "Epoch [3/10], Step [200/469], Loss: 0.0640\n",
      "Epoch [3/10], Step [300/469], Loss: 0.0225\n",
      "Epoch [3/10], Step [400/469], Loss: 0.0719\n",
      "Epoch [4/10], Step [100/469], Loss: 0.0491\n",
      "Epoch [4/10], Step [200/469], Loss: 0.0028\n",
      "Epoch [4/10], Step [300/469], Loss: 0.0094\n",
      "Epoch [4/10], Step [400/469], Loss: 0.0067\n",
      "Epoch [5/10], Step [100/469], Loss: 0.0081\n",
      "Epoch [5/10], Step [200/469], Loss: 0.0020\n",
      "Epoch [5/10], Step [300/469], Loss: 0.0194\n",
      "Epoch [5/10], Step [400/469], Loss: 0.0042\n",
      "Epoch [6/10], Step [100/469], Loss: 0.0634\n",
      "Epoch [6/10], Step [200/469], Loss: 0.0357\n",
      "Epoch [6/10], Step [300/469], Loss: 0.0033\n",
      "Epoch [6/10], Step [400/469], Loss: 0.0265\n",
      "Epoch [7/10], Step [100/469], Loss: 0.0256\n",
      "Epoch [7/10], Step [200/469], Loss: 0.0336\n",
      "Epoch [7/10], Step [300/469], Loss: 0.0465\n",
      "Epoch [7/10], Step [400/469], Loss: 0.0308\n",
      "Epoch [8/10], Step [100/469], Loss: 0.0004\n",
      "Epoch [8/10], Step [200/469], Loss: 0.0081\n",
      "Epoch [8/10], Step [300/469], Loss: 0.0773\n",
      "Epoch [8/10], Step [400/469], Loss: 0.0216\n",
      "Epoch [9/10], Step [100/469], Loss: 0.0045\n",
      "Epoch [9/10], Step [200/469], Loss: 0.0168\n",
      "Epoch [9/10], Step [300/469], Loss: 0.0059\n",
      "Epoch [9/10], Step [400/469], Loss: 0.0041\n",
      "Epoch [10/10], Step [100/469], Loss: 0.0345\n",
      "Epoch [10/10], Step [200/469], Loss: 0.0183\n",
      "Epoch [10/10], Step [300/469], Loss: 0.0455\n",
      "Epoch [10/10], Step [400/469], Loss: 0.1117\n"
     ]
    }
   ],
   "source": [
    "from torch import optim\n",
    "optimizer = optim.Adam(cnn.parameters(), lr = 0.01) \n",
    "from torch.autograd import Variable\n",
    "num_epochs = 10\n",
    "def train(num_epochs, cnn, loaders):\n",
    "    \n",
    "    cnn.train()\n",
    "        \n",
    "    total_step = len(loaders['train'])\n",
    "        \n",
    "    for epoch in range(num_epochs):\n",
    "        for i, (images, labels) in enumerate(loaders['train']):\n",
    "            \n",
    "            b_x = Variable(images)   # batch x\n",
    "            b_y = Variable(labels)   # batch y\n",
    "            output = cnn(b_x)[0]               \n",
    "            loss = loss_func(output, b_y)\n",
    "              \n",
    "            optimizer.zero_grad()           \n",
    "            \n",
    "            loss.backward()    \n",
    "            \n",
    "            optimizer.step()                \n",
    "            \n",
    "            if (i+1) % 100 == 0:\n",
    "                print ('Epoch [{}/{}], Step [{}/{}], Loss: {:.4f}' \n",
    "                       .format(epoch + 1, num_epochs, i + 1, total_step, loss.item()))\n",
    "            pass\n",
    "        \n",
    "        pass\n",
    "    \n",
    "    \n",
    "    pass\n",
    "train(num_epochs, cnn, loaders)"
   ]
  },
  {
   "cell_type": "code",
   "execution_count": null,
   "id": "dfc0233b",
   "metadata": {},
   "outputs": [],
   "source": []
  }
 ],
 "metadata": {
  "kernelspec": {
   "display_name": "Python 3 (ipykernel)",
   "language": "python",
   "name": "python3"
  },
  "language_info": {
   "codemirror_mode": {
    "name": "ipython",
    "version": 3
   },
   "file_extension": ".py",
   "mimetype": "text/x-python",
   "name": "python",
   "nbconvert_exporter": "python",
   "pygments_lexer": "ipython3",
   "version": "3.8.12"
  }
 },
 "nbformat": 4,
 "nbformat_minor": 5
}
