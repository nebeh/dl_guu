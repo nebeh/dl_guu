{
 "cells": [
  {
   "cell_type": "markdown",
   "id": "ad2ae55a",
   "metadata": {},
   "source": [
    "![jupyter](environment.png)"
   ]
  },
  {
   "cell_type": "markdown",
   "id": "4bd2fee1",
   "metadata": {},
   "source": [
    "Среда: кеточный мир. Агент может перемещаться из любой клетки влево или вправо.При перемещении агента из клетки 1 влево, агент остается в состоянии (клетке) 1.  Терминальное состояние клетка с номером 5.\n",
    "Задача: построить оптимальную стратегию.\n",
    "Цель: достигнуть терминальное состояние за минимальное количество шагов."
   ]
  },
  {
   "cell_type": "markdown",
   "id": "cf88bb91",
   "metadata": {},
   "source": []
  },
  {
   "cell_type": "markdown",
   "id": "2a304f96",
   "metadata": {},
   "source": [
    "# Метод итераций по полезностям"
   ]
  },
  {
   "cell_type": "markdown",
   "id": "4bea46fc",
   "metadata": {},
   "source": [
    "См. лекция 11, слайд 22\n",
    "Задаем reward каждого состояния, включая терминальное. \n",
    "Стратегия строится по полезностям. Агент выбирает действие, в котором поезность состояния выше."
   ]
  },
  {
   "cell_type": "code",
   "execution_count": 1,
   "id": "35c11427",
   "metadata": {},
   "outputs": [],
   "source": [
    "import numpy as np\n",
    "r = np.array([-1.,-1.,-1.,-1.,10])"
   ]
  },
  {
   "cell_type": "markdown",
   "id": "49f367ee",
   "metadata": {},
   "source": [
    "Полезности состояний (задаем случайным образом)"
   ]
  },
  {
   "cell_type": "code",
   "execution_count": 11,
   "id": "83edb703",
   "metadata": {},
   "outputs": [
    {
     "name": "stdout",
     "output_type": "stream",
     "text": [
      "[0.5488135  0.71518937 0.60276338 0.54488318 0.4236548 ]\n"
     ]
    }
   ],
   "source": [
    " np.random.seed(0)\n",
    "V = np.random.rand(5)\n",
    "print(V)"
   ]
  },
  {
   "cell_type": "markdown",
   "id": "6610739f",
   "metadata": {},
   "source": [
    "Матрица вероятностей перехода (при выборе равномерной стратегии, т.е. агент равновероятно передмещается влево и вправо)"
   ]
  },
  {
   "cell_type": "code",
   "execution_count": 5,
   "id": "123e4d34",
   "metadata": {},
   "outputs": [
    {
     "name": "stdout",
     "output_type": "stream",
     "text": [
      "[[0.5 0.5 0.  0.  0. ]\n",
      " [0.5 0.  0.5 0.  0. ]\n",
      " [0.  0.5 0.  0.5 0. ]\n",
      " [0.  0.  0.5 0.  0.5]\n",
      " [0.  0.  0.  0.  1. ]]\n"
     ]
    }
   ],
   "source": [
    "P = np.array([[0.5, 0.5, 0., 0., 0.],[0.5, 0.,0.5, 0., 0.],[0., 0.5, 0., 0.5, 0.],[0., 0., 0.5, 0., 0.5],[0.,0.,0.,0.,1.]])\n",
    "print(P)"
   ]
  },
  {
   "cell_type": "code",
   "execution_count": 12,
   "id": "a95b883c",
   "metadata": {},
   "outputs": [
    {
     "name": "stdout",
     "output_type": "stream",
     "text": [
      "[-0.43119871 -0.4817904  -0.43296735 -0.53811182 10.38128932]\n"
     ]
    }
   ],
   "source": [
    "gamma = 0.9\n",
    "V = r+gamma*P@V\n",
    "print(V)"
   ]
  },
  {
   "cell_type": "code",
   "execution_count": 13,
   "id": "21fd45d2",
   "metadata": {},
   "outputs": [
    {
     "name": "stdout",
     "output_type": "stream",
     "text": [
      "[-1.4108451  -1.38887473 -1.458956    3.47674488 19.34316039]\n"
     ]
    }
   ],
   "source": [
    "V = r+gamma*P@V\n",
    "print(V)"
   ]
  },
  {
   "cell_type": "code",
   "execution_count": 14,
   "id": "643498ff",
   "metadata": {},
   "outputs": [
    {
     "name": "stdout",
     "output_type": "stream",
     "text": [
      "[-2.25987392 -2.2914105  -0.06045843  7.04789197 27.40884435]\n"
     ]
    }
   ],
   "source": [
    "V = r+gamma*P@V\n",
    "print(V)"
   ]
  },
  {
   "cell_type": "code",
   "execution_count": 15,
   "id": "ceb232c3",
   "metadata": {},
   "outputs": [
    {
     "name": "stdout",
     "output_type": "stream",
     "text": [
      "[-3.04807799 -2.04414956  1.14041667 11.30677366 34.66795991]\n"
     ]
    }
   ],
   "source": [
    "V = r+gamma*P@V\n",
    "print(V)\n"
   ]
  },
  {
   "cell_type": "markdown",
   "id": "22676530",
   "metadata": {},
   "source": [
    "4-я итерация привела к оптимальной стратегии"
   ]
  },
  {
   "cell_type": "markdown",
   "id": "ac60cc03",
   "metadata": {},
   "source": [
    "# Метод Монте Карло (с первым посещением)\n"
   ]
  },
  {
   "cell_type": "markdown",
   "id": "69aeb9f7",
   "metadata": {},
   "source": [
    "См. Лекция 12, сайд 4\n",
    "Стратегия агента - равномерная (т.е. вероятности перехода вправо и влево равны)\n",
    "Поиск оптимальной стратегии основан на поезности.\n",
    "gamma = 1"
   ]
  },
  {
   "cell_type": "code",
   "execution_count": 124,
   "id": "152d7d03",
   "metadata": {},
   "outputs": [],
   "source": [
    "import numpy as np\n",
    "np.random.seed(0)\n",
    "V = np.random.rand(5)\n"
   ]
  },
  {
   "cell_type": "code",
   "execution_count": 125,
   "id": "9e2d65e3",
   "metadata": {},
   "outputs": [],
   "source": [
    "# r = np.array([-1.,-1.,-1.,-1.,10]) \n",
    "def random_transition(state):\n",
    "    t = np.random.randint(0,2)\n",
    "    t = t*2-1\n",
    "    state = state + t\n",
    "    if state == 0:\n",
    "        state = 1\n",
    "    if state == 5:\n",
    "        reward = 10\n",
    "    else:\n",
    "        reward = -1\n",
    "    return state, reward"
   ]
  },
  {
   "cell_type": "code",
   "execution_count": 126,
   "id": "6b8c6b46",
   "metadata": {},
   "outputs": [],
   "source": [
    "N = 200 # Количество итераций для Монте Карло\n",
    "for j in range(N):\n",
    "    for i in range(4):\n",
    "        s = i+1\n",
    "        REWARD = 0\n",
    "        while s!=5:\n",
    "            s,r = random_transition(s)\n",
    "            REWARD +=r\n",
    "        V[i] += REWARD "
   ]
  },
  {
   "cell_type": "code",
   "execution_count": 127,
   "id": "317edab0",
   "metadata": {},
   "outputs": [
    {
     "name": "stdout",
     "output_type": "stream",
     "text": [
      "[-7.15725593 -5.19142405 -2.79198618  3.69272442 10.        ]\n"
     ]
    }
   ],
   "source": [
    "V[:4] = V[:4]/N\n",
    "V[4] = 10\n",
    "print(V)\n"
   ]
  },
  {
   "cell_type": "markdown",
   "id": "f6c1b18b",
   "metadata": {},
   "source": [
    "# Метод Временных различий "
   ]
  },
  {
   "cell_type": "markdown",
   "id": "a7892545",
   "metadata": {},
   "source": [
    "См. Лекция 12, сайд 9 - 10\n",
    "Стратегия агента - равномерная (т.е. вероятности перехода вправо и влево равны)"
   ]
  },
  {
   "cell_type": "code",
   "execution_count": 128,
   "id": "246f505d",
   "metadata": {},
   "outputs": [],
   "source": [
    "import numpy as np\n",
    "np.random.seed(0)\n",
    "V = np.random.rand(5)"
   ]
  },
  {
   "cell_type": "code",
   "execution_count": null,
   "id": "94e9b0a6",
   "metadata": {},
   "outputs": [],
   "source": []
  },
  {
   "cell_type": "code",
   "execution_count": 129,
   "id": "880f3bd6",
   "metadata": {},
   "outputs": [],
   "source": [
    "N = 1000 # количество итераций\n",
    "s = 1\n",
    "a = 0.1\n",
    "gamma = 0.9\n",
    "for i in range(N):\n",
    "    for j in range(4):\n",
    "        s_next,r = random_transition(s)\n",
    "    V[s-1] = V[s-1] + a*(r+gamma*V[s_next - 1]-V[s-1])\n",
    "    if s_next == 5:\n",
    "        s_next = 1\n",
    "    s = s_next\n",
    " \n",
    "    "
   ]
  },
  {
   "cell_type": "code",
   "execution_count": 131,
   "id": "3c34b569",
   "metadata": {},
   "outputs": [
    {
     "name": "stdout",
     "output_type": "stream",
     "text": [
      "[-4.56054865 -3.45117327 -0.36684034  4.63766004 10.        ]\n"
     ]
    }
   ],
   "source": [
    "V[4] = 10\n",
    "print(V)\n"
   ]
  },
  {
   "cell_type": "markdown",
   "id": "71aae36c",
   "metadata": {},
   "source": [
    "# Q learning"
   ]
  },
  {
   "cell_type": "markdown",
   "id": "45fd568b",
   "metadata": {},
   "source": [
    "См. Лекция 12, сайд 33\n",
    "\n",
    "В Q learning мы имеем дело с полезностью действия. Стратегия агента выбрать действие с максимальной стоимостью"
   ]
  },
  {
   "cell_type": "code",
   "execution_count": 137,
   "id": "6a9426ce",
   "metadata": {},
   "outputs": [
    {
     "name": "stdout",
     "output_type": "stream",
     "text": [
      "[[-1. -1. -1. -1.]\n",
      " [-1. -1. -1. 10.]]\n"
     ]
    }
   ],
   "source": [
    "Q = np.random.rand(2,4)\n",
    "R = -np.ones((2,4))\n",
    "R[1,3] = 10\n",
    "print(R)"
   ]
  },
  {
   "cell_type": "code",
   "execution_count": 158,
   "id": "ae8c1861",
   "metadata": {},
   "outputs": [],
   "source": [
    "def get_state(state):\n",
    "    t = np.random.randint(0,2)\n",
    "    t = t*2-1\n",
    "    state = state + t\n",
    "    if state == 0:\n",
    "        state = 1\n",
    "    return state"
   ]
  },
  {
   "cell_type": "code",
   "execution_count": 161,
   "id": "2e73431b",
   "metadata": {},
   "outputs": [],
   "source": [
    "N = 1000 # количество итераций\n",
    "s = 1\n",
    "a = 0.1\n",
    "gamma = 0.9\n",
    "for j in range(N):\n",
    "    for i in range(4):\n",
    "        s = i+1\n",
    "        s_next = get_state(s)\n",
    "        r = -1   \n",
    "        if s_next>s:\n",
    "            idx = 1\n",
    "            if s_next == 4:\n",
    "                r == 10\n",
    "        else:\n",
    "            idx = 0\n",
    "        if i < 3 or idx == 0:\n",
    "            Q[idx,s-1] = Q[idx,s-1] + a*(r+gamma*np.max(Q[:,s_next-1])-Q[idx,s-1])\n",
    "        else:\n",
    "            Q[idx,s-1] = Q[idx,s-1] + a*(r+gamma*10-Q[idx,s-1])"
   ]
  },
  {
   "cell_type": "code",
   "execution_count": 162,
   "id": "6e4c3a1d",
   "metadata": {},
   "outputs": [
    {
     "name": "stdout",
     "output_type": "stream",
     "text": [
      "[[1.8098 1.8098 3.122  4.58  ]\n",
      " [3.122  4.58   6.2    8.    ]]\n"
     ]
    }
   ],
   "source": [
    "print(Q)"
   ]
  },
  {
   "cell_type": "code",
   "execution_count": null,
   "id": "6f70ad68",
   "metadata": {},
   "outputs": [],
   "source": []
  }
 ],
 "metadata": {
  "kernelspec": {
   "display_name": "Python 3 (ipykernel)",
   "language": "python",
   "name": "python3"
  },
  "language_info": {
   "codemirror_mode": {
    "name": "ipython",
    "version": 3
   },
   "file_extension": ".py",
   "mimetype": "text/x-python",
   "name": "python",
   "nbconvert_exporter": "python",
   "pygments_lexer": "ipython3",
   "version": "3.10.5"
  }
 },
 "nbformat": 4,
 "nbformat_minor": 5
}
