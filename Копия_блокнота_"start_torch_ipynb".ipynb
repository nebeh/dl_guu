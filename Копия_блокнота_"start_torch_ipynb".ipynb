{
  "nbformat": 4,
  "nbformat_minor": 0,
  "metadata": {
    "colab": {
      "name": "Копия блокнота \"start_torch.ipynb\"",
      "provenance": [],
      "collapsed_sections": [],
      "toc_visible": true,
      "authorship_tag": "ABX9TyPuPSRPnOW+esnqvKyOtrZt",
      "include_colab_link": true
    },
    "kernelspec": {
      "name": "python3",
      "display_name": "Python 3"
    },
    "language_info": {
      "name": "python"
    }
  },
  "cells": [
    {
      "cell_type": "markdown",
      "metadata": {
        "id": "view-in-github",
        "colab_type": "text"
      },
      "source": [
        "<a href=\"https://colab.research.google.com/github/nebeh/dl_guu/blob/main/%D0%9A%D0%BE%D0%BF%D0%B8%D1%8F_%D0%B1%D0%BB%D0%BE%D0%BA%D0%BD%D0%BE%D1%82%D0%B0_%22start_torch_ipynb%22.ipynb\" target=\"_parent\"><img src=\"https://colab.research.google.com/assets/colab-badge.svg\" alt=\"Open In Colab\"/></a>"
      ]
    },
    {
      "cell_type": "markdown",
      "source": [
        "# **Базовые конструкции pytorch**"
      ],
      "metadata": {
        "id": "C_OHT1s2DHAB"
      }
    },
    {
      "cell_type": "code",
      "source": [
        "import torch\n"
      ],
      "metadata": {
        "id": "J_M3gJ44DM7x"
      },
      "execution_count": null,
      "outputs": []
    },
    {
      "cell_type": "markdown",
      "source": [
        "Базовой единице для torch является тензор (многомерный массив). "
      ],
      "metadata": {
        "id": "fz2TyATuDfpv"
      }
    },
    {
      "cell_type": "code",
      "source": [
        "a = torch.tensor([1,2])\n",
        "print(a.size())\n",
        "print(a.dtype)\n",
        "b = torch.tensor([[0,1],[-1,2]])\n",
        "b"
      ],
      "metadata": {
        "colab": {
          "base_uri": "https://localhost:8080/"
        },
        "id": "7p8C96I2D1nw",
        "outputId": "14d59b9f-06f8-43dc-bdeb-0f0c7c7a69be"
      },
      "execution_count": null,
      "outputs": [
        {
          "output_type": "stream",
          "name": "stdout",
          "text": [
            "torch.Size([2])\n",
            "torch.int64\n"
          ]
        },
        {
          "output_type": "execute_result",
          "data": {
            "text/plain": [
              "tensor([[ 0,  1],\n",
              "        [-1,  2]])"
            ]
          },
          "metadata": {},
          "execution_count": 16
        }
      ]
    },
    {
      "cell_type": "markdown",
      "source": [
        "Типом данных можно управлять при задании тензора"
      ],
      "metadata": {
        "id": "O34sub9yEnni"
      }
    },
    {
      "cell_type": "code",
      "source": [
        "torch.HalfTensor      # 16 бит, floating point\n",
        "torch.FloatTensor     # 32 бита, floating point\n",
        "torch.DoubleTensor    # 64 бита, floating point\n",
        "\n",
        "torch.ShortTensor     # 16 бит, integer, signed\n",
        "torch.IntTensor       # 32 бита, integer, signed\n",
        "torch.LongTensor      # 64 бита, integer, signed\n",
        "\n",
        "torch.CharTensor      # 8 бит, integer, signed\n",
        "torch.ByteTensor      # 8 бит, integer, unsigned\n"
      ],
      "metadata": {
        "colab": {
          "base_uri": "https://localhost:8080/"
        },
        "id": "TyTgU8lPFAPB",
        "outputId": "81f20225-b9f3-4baf-f982-c97bd93bac9d"
      },
      "execution_count": null,
      "outputs": [
        {
          "output_type": "execute_result",
          "data": {
            "text/plain": [
              "torch.ByteTensor"
            ]
          },
          "metadata": {},
          "execution_count": 12
        }
      ]
    },
    {
      "cell_type": "code",
      "source": [
        "x = torch.HalfTensor([[1,2],[4,0.5]]) \n",
        "x\n"
      ],
      "metadata": {
        "colab": {
          "base_uri": "https://localhost:8080/"
        },
        "id": "L0uJaHUCZJUD",
        "outputId": "62383461-9162-488d-e98c-3d5bf514b3ae"
      },
      "execution_count": null,
      "outputs": [
        {
          "output_type": "execute_result",
          "data": {
            "text/plain": [
              "tensor([[1.0000, 2.0000],\n",
              "        [4.0000, 0.5000]], dtype=torch.float16)"
            ]
          },
          "metadata": {},
          "execution_count": 40
        }
      ]
    },
    {
      "cell_type": "markdown",
      "source": [
        "Изменение типа"
      ],
      "metadata": {
        "id": "zyz2-KjTf0VH"
      }
    },
    {
      "cell_type": "code",
      "source": [
        "x.type_as(torch.DoubleTensor())"
      ],
      "metadata": {
        "colab": {
          "base_uri": "https://localhost:8080/"
        },
        "id": "QqNu3dxdf-pd",
        "outputId": "7957a06e-4fdd-4c2e-eaab-40d288115242"
      },
      "execution_count": null,
      "outputs": [
        {
          "output_type": "execute_result",
          "data": {
            "text/plain": [
              "tensor([[1.0000, 2.0000],\n",
              "        [4.0000, 0.5000]], dtype=torch.float64)"
            ]
          },
          "metadata": {},
          "execution_count": 41
        }
      ]
    },
    {
      "cell_type": "markdown",
      "source": [
        "Можно задать тензор не используя конкретных значений, а только размер\n"
      ],
      "metadata": {
        "id": "w5VMxeBhaDD7"
      }
    },
    {
      "cell_type": "code",
      "source": [
        "x = torch.DoubleTensor(2,3,2)\n",
        "x\n"
      ],
      "metadata": {
        "colab": {
          "base_uri": "https://localhost:8080/"
        },
        "id": "GQgJ1po3abv0",
        "outputId": "8c1c0b42-bdae-4013-ba3a-0167099ba94e"
      },
      "execution_count": null,
      "outputs": [
        {
          "output_type": "execute_result",
          "data": {
            "text/plain": [
              "tensor([[[4.6452e-310, 1.0610e-312],\n",
              "         [1.0186e-312, 9.5490e-313],\n",
              "         [1.1883e-312, 1.0398e-312]],\n",
              "\n",
              "        [[1.2308e-312, 1.2095e-312],\n",
              "         [1.0610e-312, 9.7612e-313],\n",
              "         [1.1034e-312, 1.1247e-312]]], dtype=torch.float64)"
            ]
          },
          "metadata": {},
          "execution_count": 19
        }
      ]
    },
    {
      "cell_type": "markdown",
      "source": [
        "Тензоры специального вида (случайные числа, нулевой, единичный и т.д.)"
      ],
      "metadata": {
        "id": "NzedJv4YbIcA"
      }
    },
    {
      "cell_type": "code",
      "source": [
        "z = torch.zeros(2,3)\n",
        "print(z)\n",
        "o = torch.ones(3,1)\n",
        "print(o)\n",
        "e = torch.eye(3,3)\n",
        "print(e)\n",
        "x = torch.randn(100,1)\n",
        "\n"
      ],
      "metadata": {
        "colab": {
          "base_uri": "https://localhost:8080/"
        },
        "id": "r7cASf4fbY8U",
        "outputId": "87f15283-9c80-41a2-da76-d9c3249d90b4"
      },
      "execution_count": null,
      "outputs": [
        {
          "output_type": "stream",
          "name": "stdout",
          "text": [
            "tensor([[0., 0., 0.],\n",
            "        [0., 0., 0.]])\n",
            "tensor([[1.],\n",
            "        [1.],\n",
            "        [1.]])\n",
            "tensor([[1., 0., 0.],\n",
            "        [0., 1., 0.],\n",
            "        [0., 0., 1.]])\n"
          ]
        }
      ]
    },
    {
      "cell_type": "markdown",
      "source": [
        "Функции: определяются на каждом элементе тензора (поэлементно)"
      ],
      "metadata": {
        "id": "j_qm_kpHcbfK"
      }
    },
    {
      "cell_type": "code",
      "source": [
        "y = torch.tensor([[1.1, 2.2, 0.2]])\n",
        "print(y.sin())\n",
        "print(y.pow(2))\n"
      ],
      "metadata": {
        "colab": {
          "base_uri": "https://localhost:8080/"
        },
        "id": "gmr-8LTMcmwO",
        "outputId": "33ff1fe6-2da8-4108-ef7b-40c8d1ea88bc"
      },
      "execution_count": null,
      "outputs": [
        {
          "output_type": "stream",
          "name": "stdout",
          "text": [
            "tensor([[0.8912, 0.8085, 0.1987]])\n",
            "tensor([[1.2100, 4.8400, 0.0400]])\n"
          ]
        }
      ]
    },
    {
      "cell_type": "markdown",
      "source": [
        "Арифметические операции (выполняются поэлементно)"
      ],
      "metadata": {
        "id": "iw1oUFOldTuP"
      }
    },
    {
      "cell_type": "code",
      "source": [
        "x = torch.tensor([[1,2],[0, 3]])\n",
        "y = torch.tensor([[0, -1], [1,1]])\n",
        "print(x + y)\n",
        "print(x.add(y))\n",
        "print(x*y)\n",
        "print(x-y)\n"
      ],
      "metadata": {
        "colab": {
          "base_uri": "https://localhost:8080/"
        },
        "id": "6aURcyCIdfPb",
        "outputId": "e9f18f6a-2873-4774-aafb-506619fef7ad"
      },
      "execution_count": null,
      "outputs": [
        {
          "output_type": "stream",
          "name": "stdout",
          "text": [
            "tensor([[1, 1],\n",
            "        [1, 4]])\n",
            "tensor([[1, 1],\n",
            "        [1, 4]])\n",
            "tensor([[ 0, -2],\n",
            "        [ 0,  3]])\n",
            "tensor([[ 1,  3],\n",
            "        [-1,  2]])\n"
          ]
        }
      ]
    },
    {
      "cell_type": "markdown",
      "source": [
        "Операции линейной алгебры (матричное умножение)"
      ],
      "metadata": {
        "id": "ylY4i5MfeIta"
      }
    },
    {
      "cell_type": "code",
      "source": [
        "print(x@y)\n",
        "print(x.mm(y))\n"
      ],
      "metadata": {
        "colab": {
          "base_uri": "https://localhost:8080/"
        },
        "id": "92NDZHuneVrT",
        "outputId": "1507ca02-1a93-45d1-bf7a-0d6f43fd7c72"
      },
      "execution_count": null,
      "outputs": [
        {
          "output_type": "stream",
          "name": "stdout",
          "text": [
            "tensor([[2, 1],\n",
            "        [3, 3]])\n",
            "tensor([[2, 1],\n",
            "        [3, 3]])\n"
          ]
        }
      ]
    },
    {
      "cell_type": "markdown",
      "source": [
        "Логические операции\n"
      ],
      "metadata": {
        "id": "gmFHpEpIev0M"
      }
    },
    {
      "cell_type": "code",
      "source": [
        "x = torch.randn(1,5)\n",
        "print(x)\n",
        "print(x >0)"
      ],
      "metadata": {
        "colab": {
          "base_uri": "https://localhost:8080/"
        },
        "id": "GMXvAaZ3fH_O",
        "outputId": "ca480bad-e9cd-4eb8-8b25-8f622afb35a2"
      },
      "execution_count": null,
      "outputs": [
        {
          "output_type": "stream",
          "name": "stdout",
          "text": [
            "tensor([[ 0.2534,  0.0376, -0.0114, -0.0163, -1.0404]])\n",
            "tensor([[ True,  True, False, False, False]])\n"
          ]
        }
      ]
    },
    {
      "cell_type": "code",
      "source": [
        "print(x[x>0])\n"
      ],
      "metadata": {
        "colab": {
          "base_uri": "https://localhost:8080/"
        },
        "id": "IMM6ym2Wfk2q",
        "outputId": "91775cd1-8df0-49aa-a6e2-4a7c6cec4707"
      },
      "execution_count": null,
      "outputs": [
        {
          "output_type": "stream",
          "name": "stdout",
          "text": [
            "tensor([0.2534, 0.0376])\n"
          ]
        }
      ]
    },
    {
      "cell_type": "markdown",
      "source": [
        "Функции статистики"
      ],
      "metadata": {
        "id": "NxZZ63qcgqyP"
      }
    },
    {
      "cell_type": "code",
      "source": [
        "x = torch.randn(4,3)\n",
        "print(x)"
      ],
      "metadata": {
        "colab": {
          "base_uri": "https://localhost:8080/"
        },
        "id": "v9qoS7HIgwqq",
        "outputId": "22eab9c0-60d3-4805-ef1a-6f655ab0bd43"
      },
      "execution_count": null,
      "outputs": [
        {
          "output_type": "stream",
          "name": "stdout",
          "text": [
            "tensor([[ 1.1537,  0.0208,  0.7959],\n",
            "        [ 0.8143,  0.5381,  0.3858],\n",
            "        [-1.0283, -0.4781,  0.0129],\n",
            "        [-0.6155,  0.2144, -0.5494]])\n"
          ]
        }
      ]
    },
    {
      "cell_type": "code",
      "source": [
        "print(x.mean())\n",
        "print(x.mean(axis=0))\n",
        "print(x.mean(0))"
      ],
      "metadata": {
        "colab": {
          "base_uri": "https://localhost:8080/"
        },
        "id": "M_RB9aDqhKz1",
        "outputId": "645d4c84-eee8-4807-d097-fdcd8bb8b587"
      },
      "execution_count": null,
      "outputs": [
        {
          "output_type": "stream",
          "name": "stdout",
          "text": [
            "tensor(0.1054)\n",
            "tensor([0.0810, 0.0738, 0.1613])\n",
            "tensor([0.0810, 0.0738, 0.1613])\n"
          ]
        }
      ]
    },
    {
      "cell_type": "markdown",
      "source": [
        "Преобразование numpy -> torch -> torch"
      ],
      "metadata": {
        "id": "f04QLRB3hku7"
      }
    },
    {
      "cell_type": "code",
      "source": [
        "import numpy as np\n",
        "x = np.random.randn(2,3)\n",
        "y = torch.from_numpy(x)\n",
        "z = y.numpy\n"
      ],
      "metadata": {
        "id": "I8pvHLu1hy4E"
      },
      "execution_count": null,
      "outputs": []
    }
  ]
}